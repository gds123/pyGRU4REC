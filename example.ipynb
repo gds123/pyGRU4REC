{
 "cells": [
  {
   "cell_type": "markdown",
   "metadata": {},
   "source": [
    "# Load the Data"
   ]
  },
  {
   "cell_type": "code",
   "execution_count": 1,
   "metadata": {
    "ExecuteTime": {
     "end_time": "2018-02-27T22:25:36.070715Z",
     "start_time": "2018-02-27T22:25:25.615253Z"
    }
   },
   "outputs": [],
   "source": [
    "import pandas as pd\n",
    "import numpy as np\n",
    "from pathlib import Path\n",
    "\n",
    "PATH_HOME = Path.home()\n",
    "PATH_PROJ = PATH_HOME/'pyGRU4REC' \n",
    "PATH_DATA = PATH_PROJ/'data'\n",
    "PATH_MODEL = PATH_PROJ/'models'\n",
    "train = 'train.tsv'\n",
    "test = 'test.tsv'\n",
    "PATH_TRAIN = PATH_DATA / train\n",
    "PATH_TEST = PATH_DATA / test\n",
    "\n",
    "df_train = pd.read_csv(PATH_TRAIN, sep='\\t', names=['SessionId','ItemId','TimeStamp'])\n",
    "df_test = pd.read_csv(PATH_TEST, sep='\\t', names=['SessionId','ItemId', 'TimeStamp'])"
   ]
  },
  {
   "cell_type": "markdown",
   "metadata": {},
   "source": [
    "# Train"
   ]
  },
  {
   "cell_type": "code",
   "execution_count": null,
   "metadata": {
    "ExecuteTime": {
     "end_time": "2018-02-27T05:29:50.087721Z",
     "start_time": "2018-02-27T05:29:37.345345Z"
    },
    "collapsed": true
   },
   "outputs": [],
   "source": [
    "from modules.model import GRU4REC\n",
    "import torch\n",
    "\n",
    "session_key = 'SessionId'\n",
    "item_key = 'ItemId'\n",
    "time_key = 'TimeStamp'\n",
    "\n",
    "input_size = df_train[item_key].nunique()\n",
    "hidden_size = 100\n",
    "num_layers = 1\n",
    "output_size = input_size\n",
    "batch_size = 50\n",
    "dropout_input = 0\n",
    "dropout_hidden = .5\n",
    "\n",
    "optimizer_type = 'Adagrad'\n",
    "lr = .01\n",
    "weight_decay = 0\n",
    "momentum = 0\n",
    "eps = 1e-6\n",
    "\n",
    "loss_type = 'TOP1'\n",
    "\n",
    "n_epochs = 10\n",
    "time_sort = False\n",
    "n_samples = -1 # if -1, use all samples\n",
    "n_samples = 10000\n",
    "use_cuda = True\n",
    "\n",
    "torch.manual_seed(7)\n",
    "torch.cuda.manual_seed(7)\n",
    "\n",
    "train_data = df_train[:n_samples] if n_samples != -1 else df_train\n",
    "\n",
    "model = GRU4REC(input_size, hidden_size, output_size,\n",
    "                num_layers=num_layers,\n",
    "                batch_size=batch_size,\n",
    "                dropout_input=dropout_input,\n",
    "                dropout_hidden=dropout_hidden,\n",
    "                optimizer_type=optimizer_type,\n",
    "                lr=lr,\n",
    "                weight_decay=weight_decay,\n",
    "                momentum=momentum,\n",
    "                eps=eps,\n",
    "                loss_type=loss_type,\n",
    "                time_sort=time_sort,\n",
    "                use_cuda=use_cuda)\n",
    "\n",
    "model.init_data(train_data, df_test, session_key, time_key, item_key)\n",
    "model_name = 'GRU4REC'\n",
    "model.train(n_epochs=n_epochs, model_name=model_name, save_dir=PATH_MODEL)"
   ]
  },
  {
   "cell_type": "markdown",
   "metadata": {},
   "source": [
    "## Evaluate using the trained models"
   ]
  },
  {
   "cell_type": "code",
   "execution_count": 17,
   "metadata": {
    "ExecuteTime": {
     "end_time": "2018-02-27T05:44:13.202111Z",
     "start_time": "2018-02-27T05:44:05.731675Z"
    },
    "collapsed": true
   },
   "outputs": [],
   "source": [
    "from pathlib import Path\n",
    "import pandas as pd\n",
    "import numpy as np\n",
    "from modules.layer import GRU\n",
    "from modules.model import GRU4REC\n",
    "import torch\n",
    "\n",
    "PATH_HOME = Path.home()\n",
    "PATH_PROJ = PATH_HOME/'pyGRU4REC' \n",
    "PATH_DATA = PATH_PROJ/'data'\n",
    "PATH_MODEL = PATH_PROJ/'models'\n",
    "train = 'train.tsv'\n",
    "test = 'test.tsv'\n",
    "PATH_TRAIN = PATH_DATA / train\n",
    "PATH_TEST = PATH_DATA / test\n",
    "\n",
    "session_key = 'SessionId'\n",
    "time_key = 'Time'\n",
    "item_key = 'ItemId'\n",
    "\n",
    "df_train = pd.read_csv(PATH_TRAIN, sep='\\t', names=['SessionId','ItemId', 'Time'])\n",
    "df_test = pd.read_csv(PATH_TEST, sep='\\t', names=['SessionId','ItemId', 'Time'])"
   ]
  },
  {
   "cell_type": "markdown",
   "metadata": {},
   "source": [
    "## 1.Load the Common Parameters"
   ]
  },
  {
   "cell_type": "code",
   "execution_count": 18,
   "metadata": {
    "ExecuteTime": {
     "end_time": "2018-02-27T05:44:13.441073Z",
     "start_time": "2018-02-27T05:44:13.316621Z"
    },
    "collapsed": true
   },
   "outputs": [],
   "source": [
    "input_size = df_train[item_key].nunique()\n",
    "output_size = input_size\n",
    "hidden_size = 100\n",
    "num_layers = 1\n",
    "\n",
    "use_cuda = True\n",
    "time_sort = False\n",
    "\n",
    "optimizer_type = 'Adagrad'"
   ]
  },
  {
   "cell_type": "markdown",
   "metadata": {},
   "source": [
    "## 2. Evaluation(TOP1 Loss)"
   ]
  },
  {
   "cell_type": "code",
   "execution_count": 19,
   "metadata": {
    "ExecuteTime": {
     "end_time": "2018-02-27T05:44:37.682098Z",
     "start_time": "2018-02-27T05:44:13.554749Z"
    }
   },
   "outputs": [
    {
     "name": "stdout",
     "output_type": "stream",
     "text": [
      "Switching into Testing mode.\n",
      "Switching into Training mode.\n",
      "Recall@20:0.6171223,MRR@20:0.2565030\n"
     ]
    }
   ],
   "source": [
    "model_name = 'GRU4REC_TOP1_Adagrad_0.01_epoch10'\n",
    "model_file = PATH_MODEL/model_name\n",
    "\n",
    "loss_type = 'TOP1'\n",
    "lr = 0.01\n",
    "\n",
    "dropout_hidden = .5\n",
    "dropout_input = 0\n",
    "batch_size = 50\n",
    "momentum = 0\n",
    "\n",
    "gru = GRU(input_size, hidden_size, output_size,\n",
    "          num_layers = num_layers,\n",
    "          dropout_input = dropout_input,\n",
    "          dropout_hidden = dropout_hidden,\n",
    "          batch_size = batch_size,\n",
    "          use_cuda = use_cuda)\n",
    "\n",
    "gru.load_state_dict(torch.load(model_file))\n",
    "\n",
    "model = GRU4REC(input_size, hidden_size, output_size,\n",
    "                num_layers = num_layers,\n",
    "                dropout_input = dropout_input,\n",
    "                dropout_hidden = dropout_hidden,\n",
    "                batch_size = batch_size,\n",
    "                use_cuda = use_cuda,\n",
    "                loss_type = loss_type,\n",
    "                optimizer_type = optimizer_type,\n",
    "                lr=lr,\n",
    "                momentum=momentum,\n",
    "                time_sort=time_sort,\n",
    "                pretrained=gru)\n",
    "\n",
    "model.init_data(df_train, df_test, session_key=session_key, time_key=time_key, item_key=item_key)\n",
    "\n",
    "k = 20\n",
    "recall, mrr = model.test(k = k, batch_size = batch_size)\n",
    "result = f'Recall@{k}:{recall:.7f},MRR@{k}:{mrr:.7f}'\n",
    "print(result)"
   ]
  },
  {
   "cell_type": "markdown",
   "metadata": {},
   "source": [
    "## 3. Evaluation(BPR Loss)"
   ]
  },
  {
   "cell_type": "code",
   "execution_count": 20,
   "metadata": {
    "ExecuteTime": {
     "end_time": "2018-02-27T05:45:07.462461Z",
     "start_time": "2018-02-27T05:44:44.114846Z"
    }
   },
   "outputs": [
    {
     "name": "stdout",
     "output_type": "stream",
     "text": [
      "Switching into Testing mode.\n",
      "Switching into Training mode.\n",
      "Recall@20:0.5984532,MRR@20:0.2378255\n"
     ]
    }
   ],
   "source": [
    "model_name = 'GRU4REC_BPR_Adagrad_0.05_epoch10'\n",
    "model_file = PATH_MODEL/model_name\n",
    "\n",
    "loss_type = 'BPR'\n",
    "lr = 0.05\n",
    "\n",
    "dropout_hidden = .2\n",
    "dropout_input = 0\n",
    "batch_size = 50\n",
    "momentum = 0.2\n",
    "\n",
    "gru = GRU(input_size, hidden_size, output_size,\n",
    "          num_layers = num_layers,\n",
    "          dropout_input = dropout_input,\n",
    "          dropout_hidden = dropout_hidden,\n",
    "          batch_size = batch_size,\n",
    "          use_cuda = use_cuda)\n",
    "\n",
    "gru.load_state_dict(torch.load(model_file))\n",
    "\n",
    "model = GRU4REC(input_size, hidden_size, output_size,\n",
    "                num_layers = num_layers,\n",
    "                dropout_input = dropout_input,\n",
    "                dropout_hidden = dropout_hidden,\n",
    "                batch_size = batch_size,\n",
    "                use_cuda = use_cuda,\n",
    "                loss_type = loss_type,\n",
    "                optimizer_type = optimizer_type,\n",
    "                lr=lr,\n",
    "                momentum=momentum,\n",
    "                time_sort=time_sort,\n",
    "                pretrained=gru)\n",
    "\n",
    "model.init_data(df_train, df_test, session_key=session_key, time_key=time_key, item_key=item_key)\n",
    "\n",
    "k = 20\n",
    "recall, mrr = model.test(k = k, batch_size = batch_size)\n",
    "result = f'Recall@{k}:{recall:.7f},MRR@{k}:{mrr:.7f}'\n",
    "print(result)"
   ]
  },
  {
   "cell_type": "markdown",
   "metadata": {},
   "source": [
    "## 4. Evaluation(CrossEntropyLoss)"
   ]
  },
  {
   "cell_type": "code",
   "execution_count": 21,
   "metadata": {
    "ExecuteTime": {
     "end_time": "2018-02-27T05:45:31.967864Z",
     "start_time": "2018-02-27T05:45:10.011355Z"
    }
   },
   "outputs": [
    {
     "name": "stdout",
     "output_type": "stream",
     "text": [
      "Switching into Testing mode.\n",
      "Switching into Training mode.\n",
      "Recall@20:0.6271887,MRR@20:0.2570316\n"
     ]
    }
   ],
   "source": [
    "model_name = 'GRU4REC_CrossEntropy_Adagrad_0.01_epoch10'\n",
    "model_file = PATH_MODEL/model_name\n",
    "\n",
    "loss_type = 'CrossEntropy'\n",
    "lr = 0.01\n",
    "\n",
    "dropout_hidden = 0\n",
    "dropout_input = 0\n",
    "batch_size = 500\n",
    "momentum = 0\n",
    "\n",
    "gru = GRU(input_size, hidden_size, output_size,\n",
    "          num_layers = num_layers,\n",
    "          dropout_input = dropout_input,\n",
    "          dropout_hidden = dropout_hidden,\n",
    "          batch_size = batch_size,\n",
    "          use_cuda = use_cuda)\n",
    "\n",
    "gru.load_state_dict(torch.load(model_file))\n",
    "\n",
    "model = GRU4REC(input_size, hidden_size, output_size,\n",
    "                num_layers = num_layers,\n",
    "                dropout_input = dropout_input,\n",
    "                dropout_hidden = dropout_hidden,\n",
    "                batch_size = batch_size,\n",
    "                use_cuda = use_cuda,\n",
    "                loss_type = loss_type,\n",
    "                optimizer_type = optimizer_type,\n",
    "                lr=lr,\n",
    "                momentum=momentum,\n",
    "                time_sort=time_sort,\n",
    "                pretrained=gru)\n",
    "\n",
    "model.init_data(df_train, df_test, session_key=session_key, time_key=time_key, item_key=item_key)\n",
    "\n",
    "k = 20\n",
    "recall, mrr = model.test(k = k, batch_size = batch_size)\n",
    "result = f'Recall@{k}:{recall:.7f},MRR@{k}:{mrr:.7f}'\n",
    "print(result)"
   ]
  }
 ],
 "metadata": {
  "kernelspec": {
   "display_name": "Python 3",
   "language": "python",
   "name": "python3"
  },
  "language_info": {
   "codemirror_mode": {
    "name": "ipython",
    "version": 3
   },
   "file_extension": ".py",
   "mimetype": "text/x-python",
   "name": "python",
   "nbconvert_exporter": "python",
   "pygments_lexer": "ipython3",
   "version": "3.6.4"
  },
  "latex_envs": {
   "LaTeX_envs_menu_present": true,
   "autoclose": false,
   "autocomplete": true,
   "bibliofile": "biblio.bib",
   "cite_by": "apalike",
   "current_citInitial": 1.0,
   "eqLabelWithNumbers": true,
   "eqNumInitial": 1.0,
   "hotkeys": {
    "equation": "Ctrl-E",
    "itemize": "Ctrl-I"
   },
   "labels_anchors": false,
   "latex_user_defs": false,
   "report_style_numbering": false,
   "user_envs_cfg": false
  },
  "varInspector": {
   "cols": {
    "lenName": 16.0,
    "lenType": 16.0,
    "lenVar": 40.0
   },
   "kernels_config": {
    "python": {
     "delete_cmd_postfix": "",
     "delete_cmd_prefix": "del ",
     "library": "var_list.py",
     "varRefreshCmd": "print(var_dic_list())"
    },
    "r": {
     "delete_cmd_postfix": ") ",
     "delete_cmd_prefix": "rm(",
     "library": "var_list.r",
     "varRefreshCmd": "cat(var_dic_list()) "
    }
   },
   "position": {
    "height": "761px",
    "left": "1497px",
    "right": "20px",
    "top": "121px",
    "width": "354px"
   },
   "types_to_exclude": [
    "module",
    "function",
    "builtin_function_or_method",
    "instance",
    "_Feature"
   ],
   "window_display": false
  }
 },
 "nbformat": 4,
 "nbformat_minor": 2
}
